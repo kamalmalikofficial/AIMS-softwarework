{
  "nbformat": 4,
  "nbformat_minor": 0,
  "metadata": {
    "colab": {
      "provenance": [],
      "gpuType": "T4",
      "authorship_tag": "ABX9TyNoUceV1XMyRxnZRAdMP9ZY",
      "include_colab_link": true
    },
    "kernelspec": {
      "name": "python3",
      "display_name": "Python 3"
    },
    "language_info": {
      "name": "python"
    },
    "accelerator": "GPU"
  },
  "cells": [
    {
      "cell_type": "markdown",
      "metadata": {
        "id": "view-in-github",
        "colab_type": "text"
      },
      "source": [
        "<a href=\"https://colab.research.google.com/github/kamalmalikofficial/AIMS-softwarework/blob/main/finetuning_of_fasterrcnn.ipynb\" target=\"_parent\"><img src=\"https://colab.research.google.com/assets/colab-badge.svg\" alt=\"Open In Colab\"/></a>"
      ]
    },
    {
      "cell_type": "code",
      "execution_count": null,
      "metadata": {
        "colab": {
          "base_uri": "https://localhost:8080/"
        },
        "id": "naeWmA_ZWtie",
        "outputId": "b0b73294-e021-492c-a141-cb52f0a08a61"
      },
      "outputs": [
        {
          "output_type": "stream",
          "name": "stdout",
          "text": [
            "Mounted at /content/drive\n"
          ]
        }
      ],
      "source": [
        "from google.colab import drive\n",
        "drive.mount('/content/drive')"
      ]
    },
    {
      "cell_type": "code",
      "source": [],
      "metadata": {
        "id": "JSf-pA_3ZbRq"
      },
      "execution_count": null,
      "outputs": []
    },
    {
      "cell_type": "code",
      "execution_count": null,
      "metadata": {
        "colab": {
          "base_uri": "https://localhost:8080/"
        },
        "id": "lD2sSPFBKADU",
        "outputId": "a66f2eaf-eb39-4da0-f53c-6180eda1f150"
      },
      "outputs": [
        {
          "output_type": "stream",
          "name": "stdout",
          "text": [
            "Backup created at: /content/result.backup.json\n",
            "file_name fields updated successfully!\n"
          ]
        }
      ],
      "source": [
        "import json\n",
        "from pathlib import Path\n",
        "import shutil\n",
        "\n",
        "json_path = Path(\"/content/result.json\")\n",
        "\n",
        "# Backup original file\n",
        "backup_path = json_path.with_suffix(\".backup.json\")\n",
        "shutil.copy(json_path, backup_path)\n",
        "print(f\"Backup created at: {backup_path}\")\n",
        "\n",
        "# Load JSON\n",
        "with open(json_path, \"r\") as f:\n",
        "    data = json.load(f)\n",
        "\n",
        "# Clean up file_name entries\n",
        "for img in data.get(\"images\", []):\n",
        "    if \"file_name\" in img:\n",
        "        # Normalize slashes and keep only filename\n",
        "        img[\"file_name\"] = Path(img[\"file_name\"].replace(\"\\\\\", \"/\")).name\n",
        "\n",
        "# Save back\n",
        "with open(json_path, \"w\") as f:\n",
        "    json.dump(data, f, indent=2)\n",
        "\n",
        "print(\"file_name fields updated successfully!\")\n",
        "\n"
      ]
    },
    {
      "cell_type": "code",
      "source": [],
      "metadata": {
        "id": "v0pvTq1raPt2"
      },
      "execution_count": null,
      "outputs": []
    },
    {
      "cell_type": "code",
      "execution_count": null,
      "metadata": {
        "colab": {
          "base_uri": "https://localhost:8080/"
        },
        "id": "qZm39RXILEpB",
        "outputId": "614a6fb5-4a2e-4f18-dba6-f745698a9ccb"
      },
      "outputs": [
        {
          "output_type": "stream",
          "name": "stdout",
          "text": [
            "Category IDs: [0, 1, 2, 3, 4, 5, 6, 7, 8, 9, 10, 11]\n"
          ]
        }
      ],
      "source": [
        "import json\n",
        "\n",
        "json_path = \"/content/result.json\"\n",
        "with open(json_path) as f:\n",
        "    data = json.load(f)\n",
        "\n",
        "category_ids = [cat[\"id\"] for cat in data[\"categories\"]]\n",
        "print(\"Category IDs:\", category_ids)\n"
      ]
    },
    {
      "cell_type": "code",
      "execution_count": null,
      "metadata": {
        "colab": {
          "base_uri": "https://localhost:8080/"
        },
        "id": "fphQu2XZOiWh",
        "outputId": "85ce2306-7d3b-4a69-d99e-dc0578ea149e"
      },
      "outputs": [
        {
          "output_type": "stream",
          "name": "stdout",
          "text": [
            "loading annotations into memory...\n",
            "Done (t=0.01s)\n",
            "creating index...\n",
            "index created!\n"
          ]
        }
      ],
      "source": [
        "from pycocotools.coco import COCO\n",
        "coco = COCO(json_path)\n"
      ]
    },
    {
      "cell_type": "code",
      "source": [
        "import os\n",
        "import torch\n",
        "import torchvision\n",
        "from torchvision.models.detection.faster_rcnn import FastRCNNPredictor\n",
        "from torchvision.datasets import CocoDetection\n",
        "import torchvision.transforms as T\n",
        "from torch.utils.data import DataLoader\n",
        "import matplotlib.pyplot as plt\n",
        "\n",
        "# -------------------------\n",
        "# Config\n",
        "# -------------------------\n",
        "images_root = \"/content/drive/MyDrive/images\"\n",
        "annotations_file = \"/content/result.json\"\n",
        "num_classes = 13\n",
        "device = torch.device(\"cuda\" if torch.cuda.is_available() else \"cpu\")\n",
        "\n",
        "transform = T.Compose([T.ToTensor()])\n",
        "dataset = CocoDetection(root=images_root, annFile=annotations_file, transform=transform)\n",
        "\n",
        "# Collate function\n",
        "def collate_fn(batch):\n",
        "    imgs, anns = zip(*batch)\n",
        "    targets = []\n",
        "    for i, ann in enumerate(anns):\n",
        "        boxes = []\n",
        "        labels = []\n",
        "        if ann:\n",
        "            for obj in ann:\n",
        "                bbox = obj[\"bbox\"]\n",
        "                x_min, y_min, w, h = bbox\n",
        "                img_width, img_height = imgs[i].size(2), imgs[i].size(1)\n",
        "\n",
        "                x_max = x_min + w\n",
        "                y_max = y_min + h\n",
        "                x_min = max(0., float(x_min))\n",
        "                y_min = max(0., float(y_min))\n",
        "                x_max = min(float(img_width), float(x_max))\n",
        "                y_max = min(float(img_height), float(y_max))\n",
        "\n",
        "                if x_max > x_min and y_max > y_min:\n",
        "                    boxes.append([x_min, y_min, x_max, y_max])\n",
        "                    labels.append(obj[\"category_id\"])\n",
        "\n",
        "            if boxes:\n",
        "                targets.append({\n",
        "                    \"boxes\": torch.tensor(boxes, dtype=torch.float32),\n",
        "                    \"labels\": torch.tensor(labels, dtype=torch.int64),\n",
        "                })\n",
        "            else:\n",
        "                targets.append({\"boxes\": torch.empty((0, 4)), \"labels\": torch.empty((0,), dtype=torch.int64)})\n",
        "        else:\n",
        "            targets.append({\"boxes\": torch.empty((0, 4)), \"labels\": torch.empty((0,), dtype=torch.int64)})\n",
        "\n",
        "    return imgs, targets\n",
        "\n",
        "data_loader = DataLoader(dataset, batch_size=2, shuffle=True, collate_fn=collate_fn)\n",
        "\n",
        "# Model\n",
        "model = torchvision.models.detection.fasterrcnn_resnet50_fpn(pretrained=True)\n",
        "in_features = model.roi_heads.box_predictor.cls_score.in_features\n",
        "model.roi_heads.box_predictor = FastRCNNPredictor(in_features, num_classes)\n",
        "model.to(device)\n",
        "\n",
        "# Optimizer\n",
        "params = [p for p in model.parameters() if p.requires_grad]\n",
        "optimizer = torch.optim.SGD(params, lr=0.005, momentum=0.9, weight_decay=0.0005)\n",
        "\n",
        "# -------------------------\n",
        "# Track training\n",
        "# -------------------------\n",
        "num_epochs = 15\n",
        "loss_history = []\n",
        "\n",
        "for epoch in range(num_epochs):\n",
        "    model.train()\n",
        "    running_loss = 0.0\n",
        "    for imgs, targets in data_loader:\n",
        "        imgs = [img.to(device) for img in imgs]\n",
        "        targets = [{k: v.to(device) for k, v in t.items()} for t in targets]\n",
        "\n",
        "        loss_dict = model(imgs, targets)\n",
        "        losses = sum(loss for loss in loss_dict.values())\n",
        "\n",
        "        optimizer.zero_grad()\n",
        "        losses.backward()\n",
        "        optimizer.step()\n",
        "\n",
        "        running_loss += losses.item()\n",
        "\n",
        "    avg_loss = running_loss / len(data_loader)\n",
        "    loss_history.append(avg_loss)\n",
        "    print(f\"Epoch {epoch+1}, Avg Loss: {avg_loss:.4f}\")\n",
        "\n",
        "    # Save weights after each epoch\n",
        "    torch.save(model.state_dict(), f\"fasterrcnn_epoch_{epoch+1}.pth\")\n",
        "\n",
        "# -------------------------\n",
        "# Save final model\n",
        "# -------------------------\n",
        "torch.save(model.state_dict(), \"fasterrcnn_custom.pth\")\n",
        "print(\"Training done, model saved!\")\n",
        "\n",
        "# -------------------------\n",
        "# Save loss data\n",
        "# -------------------------\n",
        "with open(\"loss_history.txt\", \"w\") as f:\n",
        "    for i, loss in enumerate(loss_history, 1):\n",
        "        f.write(f\"Epoch {i}: {loss:.4f}\\n\")\n",
        "\n",
        "# -------------------------\n",
        "# Plot loss graph\n",
        "# -------------------------\n",
        "plt.figure()\n",
        "plt.plot(range(1, num_epochs+1), loss_history, marker='o')\n",
        "plt.xlabel(\"Epoch\")\n",
        "plt.ylabel(\"Average Loss\")\n",
        "plt.title(\"Training Loss Curve\")\n",
        "plt.grid(True)\n",
        "plt.savefig(\"loss_curve.png\")\n",
        "plt.show()\n"
      ],
      "metadata": {
        "colab": {
          "base_uri": "https://localhost:8080/",
          "height": 943
        },
        "id": "YDWSEkO5a8IE",
        "outputId": "ea84acd0-2e87-4b28-e6b6-216941bb0636"
      },
      "execution_count": null,
      "outputs": [
        {
          "output_type": "stream",
          "name": "stdout",
          "text": [
            "loading annotations into memory...\n",
            "Done (t=0.01s)\n",
            "creating index...\n",
            "index created!\n"
          ]
        },
        {
          "output_type": "stream",
          "name": "stderr",
          "text": [
            "/usr/local/lib/python3.11/dist-packages/torchvision/models/_utils.py:208: UserWarning: The parameter 'pretrained' is deprecated since 0.13 and may be removed in the future, please use 'weights' instead.\n",
            "  warnings.warn(\n",
            "/usr/local/lib/python3.11/dist-packages/torchvision/models/_utils.py:223: UserWarning: Arguments other than a weight enum or `None` for 'weights' are deprecated since 0.13 and may be removed in the future. The current behavior is equivalent to passing `weights=FasterRCNN_ResNet50_FPN_Weights.COCO_V1`. You can also use `weights=FasterRCNN_ResNet50_FPN_Weights.DEFAULT` to get the most up-to-date weights.\n",
            "  warnings.warn(msg)\n",
            "Downloading: \"https://download.pytorch.org/models/fasterrcnn_resnet50_fpn_coco-258fb6c6.pth\" to /root/.cache/torch/hub/checkpoints/fasterrcnn_resnet50_fpn_coco-258fb6c6.pth\n",
            "100%|██████████| 160M/160M [00:01<00:00, 120MB/s]\n"
          ]
        },
        {
          "output_type": "stream",
          "name": "stdout",
          "text": [
            "Epoch 1, Avg Loss: 1.2206\n",
            "Epoch 2, Avg Loss: 0.9507\n",
            "Epoch 3, Avg Loss: 0.8672\n",
            "Epoch 4, Avg Loss: 0.8025\n",
            "Epoch 5, Avg Loss: 0.7122\n",
            "Epoch 6, Avg Loss: 0.6696\n",
            "Epoch 7, Avg Loss: 0.5926\n",
            "Epoch 8, Avg Loss: 0.5602\n",
            "Epoch 9, Avg Loss: 0.5174\n",
            "Epoch 10, Avg Loss: 0.4590\n",
            "Epoch 11, Avg Loss: 0.4285\n",
            "Epoch 12, Avg Loss: 0.4000\n",
            "Epoch 13, Avg Loss: 0.3663\n",
            "Epoch 14, Avg Loss: 0.3407\n",
            "Epoch 15, Avg Loss: 0.3337\n",
            "Training done, model saved!\n"
          ]
        },
        {
          "output_type": "display_data",
          "data": {
            "text/plain": [
              "<Figure size 640x480 with 1 Axes>"
            ],
            "image/png": "[encoded data removed]"
          },
          "metadata": {}
        }
      ]
    },
    {
      "cell_type": "code",
      "source": [],
      "metadata": {
        "id": "VlSHGCRmbrFS"
      },
      "execution_count": null,
      "outputs": []
    }
  ]
}